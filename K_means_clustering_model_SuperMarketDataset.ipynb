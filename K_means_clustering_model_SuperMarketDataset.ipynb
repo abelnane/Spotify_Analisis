{
  "metadata": {
    "kernelspec": {
      "language": "python",
      "display_name": "Python 3",
      "name": "python3"
    },
    "language_info": {
      "name": "python",
      "version": "3.10.12",
      "mimetype": "text/x-python",
      "codemirror_mode": {
        "name": "ipython",
        "version": 3
      },
      "pygments_lexer": "ipython3",
      "nbconvert_exporter": "python",
      "file_extension": ".py"
    },
    "kaggle": {
      "accelerator": "none",
      "dataSources": [
        {
          "sourceId": 7799938,
          "sourceType": "datasetVersion",
          "datasetId": 4567015
        }
      ],
      "dockerImageVersionId": 30918,
      "isInternetEnabled": false,
      "language": "python",
      "sourceType": "notebook",
      "isGpuEnabled": false
    },
    "colab": {
      "name": " K-means clustering model SuperMarketDataset",
      "provenance": [],
      "include_colab_link": true
    }
  },
  "nbformat_minor": 0,
  "nbformat": 4,
  "cells": [
    {
      "cell_type": "markdown",
      "metadata": {
        "id": "view-in-github",
        "colab_type": "text"
      },
      "source": [
        "<a href=\"https://colab.research.google.com/github/abelnane/Spotify_Analisis/blob/main/K_means_clustering_model_SuperMarketDataset.ipynb\" target=\"_parent\"><img src=\"https://colab.research.google.com/assets/colab-badge.svg\" alt=\"Open In Colab\"/></a>"
      ]
    },
    {
      "source": [
        "# IMPORTANT: RUN THIS CELL IN ORDER TO IMPORT YOUR KAGGLE DATA SOURCES,\n",
        "# THEN FEEL FREE TO DELETE THIS CELL.\n",
        "# NOTE: THIS NOTEBOOK ENVIRONMENT DIFFERS FROM KAGGLE'S PYTHON\n",
        "# ENVIRONMENT SO THERE MAY BE MISSING LIBRARIES USED BY YOUR\n",
        "# NOTEBOOK.\n",
        "import kagglehub\n",
        "saurabhbadole_supermarket_data_path = kagglehub.dataset_download('saurabhbadole/supermarket-data')\n",
        "\n",
        "print('Data source import complete.')\n"
      ],
      "metadata": {
        "id": "MBWLtT5sCK3I"
      },
      "cell_type": "code",
      "outputs": [],
      "execution_count": null
    },
    {
      "cell_type": "markdown",
      "source": [
        "### Importar librerías"
      ],
      "metadata": {
        "id": "f5aw58aBCK3J"
      }
    },
    {
      "cell_type": "code",
      "source": [
        "import pandas as pd\n",
        "import numpy as np\n",
        "import seaborn as sns\n",
        "import matplotlib.pyplot as plt"
      ],
      "metadata": {
        "trusted": true,
        "execution": {
          "iopub.status.busy": "2025-02-26T14:40:45.420308Z",
          "iopub.execute_input": "2025-02-26T14:40:45.420746Z",
          "iopub.status.idle": "2025-02-26T14:40:46.806445Z",
          "shell.execute_reply.started": "2025-02-26T14:40:45.420714Z",
          "shell.execute_reply": "2025-02-26T14:40:46.805339Z"
        },
        "id": "sIHS2u_gCK3L"
      },
      "outputs": [],
      "execution_count": null
    },
    {
      "cell_type": "markdown",
      "source": [
        "### Cargamos el conjunto de datos y exploramos su contenido\n",
        "\n"
      ],
      "metadata": {
        "id": "roaDECcNCK3L"
      }
    },
    {
      "cell_type": "code",
      "source": [
        "df = pd.read_csv('/kaggle/input/supermarket-data/supermarket_data.csv')\n",
        "df.head()"
      ],
      "metadata": {
        "trusted": true,
        "execution": {
          "iopub.status.busy": "2025-02-26T14:40:54.819219Z",
          "iopub.execute_input": "2025-02-26T14:40:54.819879Z",
          "iopub.status.idle": "2025-02-26T14:40:56.052407Z",
          "shell.execute_reply.started": "2025-02-26T14:40:54.819842Z",
          "shell.execute_reply": "2025-02-26T14:40:56.051198Z"
        },
        "id": "6HP2qAe6CK3M"
      },
      "outputs": [],
      "execution_count": null
    },
    {
      "cell_type": "code",
      "source": [
        "df.shape"
      ],
      "metadata": {
        "trusted": true,
        "execution": {
          "iopub.status.busy": "2025-02-26T14:43:03.652242Z",
          "iopub.execute_input": "2025-02-26T14:43:03.652669Z",
          "iopub.status.idle": "2025-02-26T14:43:03.660114Z",
          "shell.execute_reply.started": "2025-02-26T14:43:03.65264Z",
          "shell.execute_reply": "2025-02-26T14:43:03.658697Z"
        },
        "id": "F8eZkHqYCK3M"
      },
      "outputs": [],
      "execution_count": null
    },
    {
      "cell_type": "markdown",
      "source": [
        "### Verificamos los valores nulos"
      ],
      "metadata": {
        "id": "GUHWZ0IOCK3N"
      }
    },
    {
      "cell_type": "code",
      "source": [
        "missing_values = df.isnull().sum()\n",
        "\n",
        "# Verificar valores duplicados\n",
        "duplicate_rows = df.duplicated().sum()\n",
        "\n",
        "# Revisar valores negativos en cantidad y precio\n",
        "negative_values = (df[\"Quantity\"] < 0).sum(), (df[\"Price\"] < 0).sum()\n",
        "\n",
        "# Mostrar resultados\n",
        "missing_values, duplicate_rows, negative_values"
      ],
      "metadata": {
        "trusted": true,
        "execution": {
          "iopub.status.busy": "2025-02-26T14:44:53.22555Z",
          "iopub.execute_input": "2025-02-26T14:44:53.226047Z",
          "iopub.status.idle": "2025-02-26T14:44:53.780777Z",
          "shell.execute_reply.started": "2025-02-26T14:44:53.226009Z",
          "shell.execute_reply": "2025-02-26T14:44:53.779311Z"
        },
        "id": "UOMoOekfCK3N"
      },
      "outputs": [],
      "execution_count": null
    },
    {
      "cell_type": "markdown",
      "source": [
        "### Eliminar filas con Customer ID nulo (necesario para segmentación)"
      ],
      "metadata": {
        "id": "XNJbzI58CK3O"
      }
    },
    {
      "cell_type": "code",
      "source": [
        "df_clean = df.dropna(subset=[\"Customer ID\"])\n",
        "\n",
        "# Eliminar filas duplicadas\n",
        "df_clean = df_clean.drop_duplicates()\n",
        "\n",
        "# Eliminar valores negativos en cantidad y precio\n",
        "df_clean = df_clean[(df_clean[\"Quantity\"] > 0) & (df_clean[\"Price\"] > 0)]\n",
        "\n",
        "# Verificar nuevamente la limpieza\n",
        "missing_values_after = df_clean.isnull().sum()\n",
        "duplicate_rows_after = df_clean.duplicated().sum()\n",
        "negative_values_after = (df_clean[\"Quantity\"] < 0).sum(), (df_clean[\"Price\"] < 0).sum()\n",
        "\n",
        "missing_values_after, duplicate_rows_after, negative_values_after"
      ],
      "metadata": {
        "trusted": true,
        "execution": {
          "iopub.status.busy": "2025-02-26T14:58:20.618536Z",
          "iopub.execute_input": "2025-02-26T14:58:20.618938Z",
          "iopub.status.idle": "2025-02-26T14:58:21.335025Z",
          "shell.execute_reply.started": "2025-02-26T14:58:20.618902Z",
          "shell.execute_reply": "2025-02-26T14:58:21.334005Z"
        },
        "id": "Anir6-NPCK3O"
      },
      "outputs": [],
      "execution_count": null
    },
    {
      "cell_type": "markdown",
      "source": [
        "### importamos librerías para nuestro modelo"
      ],
      "metadata": {
        "id": "TxEDGCobCK3O"
      }
    },
    {
      "cell_type": "code",
      "source": [
        "from sklearn.cluster import KMeans\n",
        "from sklearn.preprocessing import StandardScaler"
      ],
      "metadata": {
        "trusted": true,
        "execution": {
          "iopub.status.busy": "2025-02-26T14:58:35.457907Z",
          "iopub.execute_input": "2025-02-26T14:58:35.458317Z",
          "iopub.status.idle": "2025-02-26T14:58:35.463857Z",
          "shell.execute_reply.started": "2025-02-26T14:58:35.458291Z",
          "shell.execute_reply": "2025-02-26T14:58:35.46232Z"
        },
        "id": "UcTXpfAaCK3O"
      },
      "outputs": [],
      "execution_count": null
    },
    {
      "cell_type": "markdown",
      "source": [
        "### Convertimos InvoiceDate a tipo DateTime y procedemos a realizar el modelo junto con las visualizaciones\n",
        "\n"
      ],
      "metadata": {
        "id": "BAqCbNIgCK3P"
      }
    },
    {
      "cell_type": "code",
      "source": [
        "df_clean[\"InvoiceDate\"] = pd.to_datetime(df_clean[\"InvoiceDate\"], format=\"%d/%m/%y %H:%M\")\n",
        "\n",
        "# Crear columna de ingresos totales por transacción\n",
        "df_clean[\"TotalPrice\"] = df_clean[\"Quantity\"] * df_clean[\"Price\"]\n",
        "\n",
        "# Crear dataset de segmentación\n",
        "customer_grouped = df_clean.groupby(\"Customer ID\").agg(\n",
        "    TotalSpent=(\"TotalPrice\", \"sum\"),     # Total gastado\n",
        "    Frequency=(\"Invoice\", \"nunique\"),     # Número de compras únicas\n",
        "    Recency=(\"InvoiceDate\", lambda x: (df_clean[\"InvoiceDate\"].max() - x.max()).days)  # Días desde última compra\n",
        ").reset_index()\n",
        "\n",
        "# Estandarizar las variables\n",
        "scaler = StandardScaler()\n",
        "X_scaled = scaler.fit_transform(customer_grouped[[\"TotalSpent\", \"Frequency\", \"Recency\"]])\n",
        "\n",
        "# Aplicar K-Means con 4 clusters\n",
        "kmeans = KMeans(n_clusters=4, random_state=42, n_init=10)\n",
        "customer_grouped[\"Cluster\"] = kmeans.fit_predict(X_scaled)\n",
        "\n",
        "# Visualizar la distribución de los clusters\n",
        "plt.figure(figsize=(10, 5))\n",
        "sns.scatterplot(x=customer_grouped[\"TotalSpent\"], y=customer_grouped[\"Frequency\"],\n",
        "                hue=customer_grouped[\"Cluster\"], palette=\"viridis\", alpha=0.7)\n",
        "plt.xlabel(\"Total Gastado\")\n",
        "plt.ylabel(\"Frecuencia de Compra\")\n",
        "plt.title(\"Segmentación de Clientes con K-Means\")\n",
        "plt.legend(title=\"Cluster\")\n",
        "plt.show()"
      ],
      "metadata": {
        "trusted": true,
        "execution": {
          "iopub.status.busy": "2025-02-26T14:58:38.439877Z",
          "iopub.execute_input": "2025-02-26T14:58:38.440237Z",
          "iopub.status.idle": "2025-02-26T14:58:43.693285Z",
          "shell.execute_reply.started": "2025-02-26T14:58:38.440211Z",
          "shell.execute_reply": "2025-02-26T14:58:43.691932Z"
        },
        "id": "F7IeL52wCK3P"
      },
      "outputs": [],
      "execution_count": null
    },
    {
      "cell_type": "code",
      "source": [
        "customer_grouped[\"AvgSpentPerPurchase\"] = customer_grouped[\"TotalSpent\"] / customer_grouped[\"Frequency\"]\n",
        "\n",
        "# Estandarizar las variables\n",
        "scaler = StandardScaler()\n",
        "X_scaled = scaler.fit_transform(customer_grouped[[\"TotalSpent\", \"Frequency\", \"Recency\", \"AvgSpentPerPurchase\"]])\n",
        "\n",
        "# Aplicar K-Means con 4 clusters\n",
        "kmeans = KMeans(n_clusters=4, random_state=42, n_init=10)\n",
        "customer_grouped[\"Cluster\"] = kmeans.fit_predict(X_scaled)\n",
        "\n",
        "# Visualizar la distribución de los clusters (TotalSpent vs. Frequency)\n",
        "plt.figure(figsize=(10, 5))\n",
        "sns.scatterplot(x=customer_grouped[\"TotalSpent\"], y=customer_grouped[\"Frequency\"],\n",
        "                hue=customer_grouped[\"Cluster\"], palette=\"viridis\", alpha=0.7)\n",
        "plt.xlabel(\"Total Gastado\")\n",
        "plt.ylabel(\"Frecuencia de Compra\")\n",
        "plt.title(\"Segmentación de Clientes con K-Means\")\n",
        "plt.legend(title=\"Cluster\")\n",
        "plt.show()"
      ],
      "metadata": {
        "trusted": true,
        "execution": {
          "iopub.status.busy": "2025-02-26T15:01:19.549592Z",
          "iopub.execute_input": "2025-02-26T15:01:19.550046Z",
          "iopub.status.idle": "2025-02-26T15:01:20.091187Z",
          "shell.execute_reply.started": "2025-02-26T15:01:19.550017Z",
          "shell.execute_reply": "2025-02-26T15:01:20.089914Z"
        },
        "id": "PpQaYRjYCK3P"
      },
      "outputs": [],
      "execution_count": null
    },
    {
      "cell_type": "code",
      "source": [
        "plt.figure(figsize=(10, 5))\n",
        "sns.scatterplot(x=customer_grouped[\"TotalSpent\"], y=customer_grouped[\"AvgSpentPerPurchase\"],\n",
        "                hue=customer_grouped[\"Cluster\"], palette=\"viridis\", alpha=0.7)\n",
        "plt.xlabel(\"Total Gastado\")\n",
        "plt.ylabel(\"Gasto Promedio por Compra\")\n",
        "plt.title(\"Segmentación de Clientes: Total Gastado vs. Gasto Promedio por Compra\")\n",
        "plt.legend(title=\"Cluster\")\n",
        "plt.show()"
      ],
      "metadata": {
        "trusted": true,
        "execution": {
          "iopub.status.busy": "2025-02-26T15:03:00.717072Z",
          "iopub.execute_input": "2025-02-26T15:03:00.717479Z",
          "iopub.status.idle": "2025-02-26T15:03:01.21913Z",
          "shell.execute_reply.started": "2025-02-26T15:03:00.717451Z",
          "shell.execute_reply": "2025-02-26T15:03:01.217934Z"
        },
        "id": "_4dKpdi2CK3P"
      },
      "outputs": [],
      "execution_count": null
    },
    {
      "cell_type": "code",
      "source": [
        "centroids = scaler.inverse_transform(kmeans.cluster_centers_)  # Desescalar valores\n",
        "centroids_df = pd.DataFrame(centroids, columns=[\"TotalSpent\", \"Frequency\", \"Recency\", \"AvgSpentPerPurchase\"])\n",
        "\n",
        "# Agregar número de cluster\n",
        "centroids_df[\"Cluster\"] = range(4)\n",
        "\n",
        "print(\"Centroides de los Clusters:\")\n",
        "print(centroids_df)"
      ],
      "metadata": {
        "trusted": true,
        "execution": {
          "iopub.status.busy": "2025-02-26T15:05:54.507835Z",
          "iopub.execute_input": "2025-02-26T15:05:54.508292Z",
          "iopub.status.idle": "2025-02-26T15:05:54.520133Z",
          "shell.execute_reply.started": "2025-02-26T15:05:54.508258Z",
          "shell.execute_reply": "2025-02-26T15:05:54.518822Z"
        },
        "id": "Oq0op9etCK3P"
      },
      "outputs": [],
      "execution_count": null
    },
    {
      "cell_type": "markdown",
      "source": [
        "### Análisis de los Clusters:\n",
        "\n",
        "Cluster 0 - Clientes Ocasionales\n",
        "Bajo TotalSpent, baja Frecuencia, alta Recency\n",
        "Compran muy poco y su última compra fue hace mucho tiempo.\n",
        "Estrategia: Incentivar con descuentos y promociones para que regresen.\n",
        "\n",
        "Cluster 1 - Clientes Regulares\n",
        "Moderado TotalSpent, moderada Frecuencia, media Recency\n",
        "Compran de manera estable, pero sin gastar grandes montos.\n",
        "Estrategia: Ofrecer programas de fidelización o recompensas.\n",
        "\n",
        "Cluster 2 - Clientes VIP\n",
        "Alto TotalSpent, alta Frecuencia, baja Recency\n",
        "Compran con mucha frecuencia y gastan bastante.\n",
        "Estrategia: Mantenerlos con ofertas exclusivas y trato preferencial.\n",
        "\n",
        "Cluster 3 - Clientes en Riesgo de Pérdida\n",
        "Moderado TotalSpent, moderada Frecuencia, alta Recency\n",
        "Solían comprar regularmente, pero han dejado de hacerlo recientemente.\n",
        "Estrategia: Recordatorios personalizados, descuentos por regreso."
      ],
      "metadata": {
        "id": "2n4OMRt5CK3Q"
      }
    },
    {
      "cell_type": "code",
      "source": [],
      "metadata": {
        "trusted": true,
        "id": "WAfNXczdCK3Q"
      },
      "outputs": [],
      "execution_count": null
    }
  ]
}